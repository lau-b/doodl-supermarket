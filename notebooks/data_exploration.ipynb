{
 "cells": [
  {
   "cell_type": "markdown",
   "metadata": {},
   "source": [
    "# Imports and functions"
   ]
  },
  {
   "cell_type": "code",
   "execution_count": 1,
   "metadata": {},
   "outputs": [],
   "source": [
    "import pandas as pd\n",
    "import numpy as np\n",
    "import seaborn as sns"
   ]
  },
  {
   "cell_type": "code",
   "execution_count": 2,
   "metadata": {},
   "outputs": [],
   "source": [
    "monday = pd.read_csv('../data/raw/monday.csv', sep=';', index_col=0, parse_dates=True)\n",
    "tuesday = pd.read_csv('../data/raw/tuesday.csv', sep=';', index_col=0, parse_dates=True)\n",
    "wednesday = pd.read_csv('../data/raw/wednesday.csv', sep=';', index_col=0, parse_dates=True)\n",
    "thursday = pd.read_csv('../data/raw/thursday.csv', sep=';', index_col=0, parse_dates=True)\n",
    "friday = pd.read_csv('../data/raw/friday.csv', sep=';', index_col=0, parse_dates=True)"
   ]
  },
  {
   "cell_type": "code",
   "execution_count": 3,
   "metadata": {},
   "outputs": [],
   "source": [
    "# Calculate the total number of customers in each section\n",
    "\n",
    "def customer_section_absolut(dataframe):\n",
    "    total_number = dataframe.groupby('location').size()\n",
    "    return pd.DataFrame(total_number)"
   ]
  },
  {
   "cell_type": "code",
   "execution_count": 4,
   "metadata": {},
   "outputs": [],
   "source": [
    "# Calculate the total number of customers in each section over time\n",
    "\n",
    "def customer_section_time(dataframe):\n",
    "    time_number = dataframe.groupby(['timestamp','location']).size()\n",
    "    return pd.DataFrame(time_number)"
   ]
  },
  {
   "cell_type": "code",
   "execution_count": 5,
   "metadata": {},
   "outputs": [],
   "source": [
    "# Display the number of customers at checkout over time\n",
    "\n",
    "def checkout_time(dataframe):\n",
    "    checkout = dataframe[dataframe['location'] == 'checkout']\n",
    "    check_time = checkout.groupby(['timestamp','location']).size()\n",
    "    return pd.DataFrame(check_time)"
   ]
  },
  {
   "cell_type": "code",
   "execution_count": 6,
   "metadata": {},
   "outputs": [],
   "source": [
    "# Calculate the time each customer spent in the market\n",
    "\n",
    "def customer_stay(dataframe):\n",
    "    frame = dataframe.groupby('customer_no').resample('1min').ffill()\n",
    "    frame = frame.drop(columns='customer_no')\n",
    "    frame.reset_index(level=0, inplace=True)\n",
    "    minutes = frame.groupby('customer_no').size()\n",
    "    data = pd.DataFrame(minutes)\n",
    "    data.columns=['min the customer stays in the shop']\n",
    "    return data"
   ]
  },
  {
   "cell_type": "code",
   "execution_count": 7,
   "metadata": {},
   "outputs": [],
   "source": [
    "# Calculate the total number of customers in the supermarket over time\n",
    "\n",
    "def customer_time(dataframe):\n",
    "    frame = dataframe.groupby('customer_no').resample('1min').ffill()\n",
    "    frame = frame.drop(columns='customer_no')\n",
    "    frame.reset_index(inplace=True)\n",
    "    return pd.DataFrame(frame.groupby(\"timestamp\").size())"
   ]
  },
  {
   "cell_type": "code",
   "execution_count": 8,
   "metadata": {},
   "outputs": [],
   "source": [
    "# plot\n",
    "\n",
    "def first_stop(dataframe):\n",
    "    frame = monday.groupby('customer_no').resample('1min').ffill()\n",
    "    frame = frame.drop(columns='customer_no')\n",
    "    frame.reset_index(inplace=True)\n",
    "    first =  frame.groupby('customer_no').first()\n",
    "    return sns.countplot(x=\"location\", data=first)\n",
    "\n",
    "\n",
    "# I dont get the question\n",
    "# plot shows where customer starts their purchase"
   ]
  },
  {
   "cell_type": "code",
   "execution_count": 9,
   "metadata": {},
   "outputs": [],
   "source": [
    "# combo wombo\n",
    "\n",
    "def explore_dataframe(dataframe):\n",
    "    wombo_combo = customer_section_absolut(dataframe), customer_section_time(dataframe), checkout_time(dataframe), customer_stay(dataframe), customer_time(dataframe), first_stop(dataframe) \n",
    "    return wombo_combo "
   ]
  },
  {
   "cell_type": "markdown",
   "metadata": {},
   "source": [
    "# Results"
   ]
  },
  {
   "cell_type": "code",
   "execution_count": 10,
   "metadata": {},
   "outputs": [],
   "source": [
    "# choose your day\n",
    "\n",
    "day = monday"
   ]
  },
  {
   "cell_type": "code",
   "execution_count": 11,
   "metadata": {},
   "outputs": [
    {
     "data": {
      "text/html": [
       "<div>\n",
       "<style scoped>\n",
       "    .dataframe tbody tr th:only-of-type {\n",
       "        vertical-align: middle;\n",
       "    }\n",
       "\n",
       "    .dataframe tbody tr th {\n",
       "        vertical-align: top;\n",
       "    }\n",
       "\n",
       "    .dataframe thead th {\n",
       "        text-align: right;\n",
       "    }\n",
       "</style>\n",
       "<table border=\"1\" class=\"dataframe\">\n",
       "  <thead>\n",
       "    <tr style=\"text-align: right;\">\n",
       "      <th></th>\n",
       "      <th>0</th>\n",
       "    </tr>\n",
       "    <tr>\n",
       "      <th>location</th>\n",
       "      <th></th>\n",
       "    </tr>\n",
       "  </thead>\n",
       "  <tbody>\n",
       "    <tr>\n",
       "      <th>checkout</th>\n",
       "      <td>1437</td>\n",
       "    </tr>\n",
       "    <tr>\n",
       "      <th>dairy</th>\n",
       "      <td>895</td>\n",
       "    </tr>\n",
       "    <tr>\n",
       "      <th>drinks</th>\n",
       "      <td>797</td>\n",
       "    </tr>\n",
       "    <tr>\n",
       "      <th>fruit</th>\n",
       "      <td>1005</td>\n",
       "    </tr>\n",
       "    <tr>\n",
       "      <th>spices</th>\n",
       "      <td>750</td>\n",
       "    </tr>\n",
       "  </tbody>\n",
       "</table>\n",
       "</div>"
      ],
      "text/plain": [
       "             0\n",
       "location      \n",
       "checkout  1437\n",
       "dairy      895\n",
       "drinks     797\n",
       "fruit     1005\n",
       "spices     750"
      ]
     },
     "execution_count": 11,
     "metadata": {},
     "output_type": "execute_result"
    }
   ],
   "source": [
    "# print the results\n",
    "\n",
    "customer_section_absolut(day)"
   ]
  },
  {
   "cell_type": "code",
   "execution_count": 12,
   "metadata": {},
   "outputs": [
    {
     "data": {
      "text/html": [
       "<div>\n",
       "<style scoped>\n",
       "    .dataframe tbody tr th:only-of-type {\n",
       "        vertical-align: middle;\n",
       "    }\n",
       "\n",
       "    .dataframe tbody tr th {\n",
       "        vertical-align: top;\n",
       "    }\n",
       "\n",
       "    .dataframe thead th {\n",
       "        text-align: right;\n",
       "    }\n",
       "</style>\n",
       "<table border=\"1\" class=\"dataframe\">\n",
       "  <thead>\n",
       "    <tr style=\"text-align: right;\">\n",
       "      <th></th>\n",
       "      <th></th>\n",
       "      <th>0</th>\n",
       "    </tr>\n",
       "    <tr>\n",
       "      <th>timestamp</th>\n",
       "      <th>location</th>\n",
       "      <th></th>\n",
       "    </tr>\n",
       "  </thead>\n",
       "  <tbody>\n",
       "    <tr>\n",
       "      <th>2019-09-02 07:03:00</th>\n",
       "      <th>dairy</th>\n",
       "      <td>2</td>\n",
       "    </tr>\n",
       "    <tr>\n",
       "      <th rowspan=\"3\" valign=\"top\">2019-09-02 07:04:00</th>\n",
       "      <th>dairy</th>\n",
       "      <td>2</td>\n",
       "    </tr>\n",
       "    <tr>\n",
       "      <th>fruit</th>\n",
       "      <td>1</td>\n",
       "    </tr>\n",
       "    <tr>\n",
       "      <th>spices</th>\n",
       "      <td>3</td>\n",
       "    </tr>\n",
       "    <tr>\n",
       "      <th>2019-09-02 07:05:00</th>\n",
       "      <th>checkout</th>\n",
       "      <td>2</td>\n",
       "    </tr>\n",
       "    <tr>\n",
       "      <th>...</th>\n",
       "      <th>...</th>\n",
       "      <td>...</td>\n",
       "    </tr>\n",
       "    <tr>\n",
       "      <th rowspan=\"3\" valign=\"top\">2019-09-02 21:49:00</th>\n",
       "      <th>dairy</th>\n",
       "      <td>1</td>\n",
       "    </tr>\n",
       "    <tr>\n",
       "      <th>fruit</th>\n",
       "      <td>2</td>\n",
       "    </tr>\n",
       "    <tr>\n",
       "      <th>spices</th>\n",
       "      <td>2</td>\n",
       "    </tr>\n",
       "    <tr>\n",
       "      <th rowspan=\"2\" valign=\"top\">2019-09-02 21:50:00</th>\n",
       "      <th>dairy</th>\n",
       "      <td>1</td>\n",
       "    </tr>\n",
       "    <tr>\n",
       "      <th>fruit</th>\n",
       "      <td>1</td>\n",
       "    </tr>\n",
       "  </tbody>\n",
       "</table>\n",
       "<p>2797 rows × 1 columns</p>\n",
       "</div>"
      ],
      "text/plain": [
       "                              0\n",
       "timestamp           location   \n",
       "2019-09-02 07:03:00 dairy     2\n",
       "2019-09-02 07:04:00 dairy     2\n",
       "                    fruit     1\n",
       "                    spices    3\n",
       "2019-09-02 07:05:00 checkout  2\n",
       "...                          ..\n",
       "2019-09-02 21:49:00 dairy     1\n",
       "                    fruit     2\n",
       "                    spices    2\n",
       "2019-09-02 21:50:00 dairy     1\n",
       "                    fruit     1\n",
       "\n",
       "[2797 rows x 1 columns]"
      ]
     },
     "execution_count": 12,
     "metadata": {},
     "output_type": "execute_result"
    }
   ],
   "source": [
    "customer_section_time(day)"
   ]
  },
  {
   "cell_type": "code",
   "execution_count": 13,
   "metadata": {},
   "outputs": [
    {
     "data": {
      "text/html": [
       "<div>\n",
       "<style scoped>\n",
       "    .dataframe tbody tr th:only-of-type {\n",
       "        vertical-align: middle;\n",
       "    }\n",
       "\n",
       "    .dataframe tbody tr th {\n",
       "        vertical-align: top;\n",
       "    }\n",
       "\n",
       "    .dataframe thead th {\n",
       "        text-align: right;\n",
       "    }\n",
       "</style>\n",
       "<table border=\"1\" class=\"dataframe\">\n",
       "  <thead>\n",
       "    <tr style=\"text-align: right;\">\n",
       "      <th></th>\n",
       "      <th></th>\n",
       "      <th>0</th>\n",
       "    </tr>\n",
       "    <tr>\n",
       "      <th>timestamp</th>\n",
       "      <th>location</th>\n",
       "      <th></th>\n",
       "    </tr>\n",
       "  </thead>\n",
       "  <tbody>\n",
       "    <tr>\n",
       "      <th>2019-09-02 07:05:00</th>\n",
       "      <th>checkout</th>\n",
       "      <td>2</td>\n",
       "    </tr>\n",
       "    <tr>\n",
       "      <th>2019-09-02 07:06:00</th>\n",
       "      <th>checkout</th>\n",
       "      <td>2</td>\n",
       "    </tr>\n",
       "    <tr>\n",
       "      <th>2019-09-02 07:07:00</th>\n",
       "      <th>checkout</th>\n",
       "      <td>1</td>\n",
       "    </tr>\n",
       "    <tr>\n",
       "      <th>2019-09-02 07:08:00</th>\n",
       "      <th>checkout</th>\n",
       "      <td>3</td>\n",
       "    </tr>\n",
       "    <tr>\n",
       "      <th>2019-09-02 07:09:00</th>\n",
       "      <th>checkout</th>\n",
       "      <td>1</td>\n",
       "    </tr>\n",
       "    <tr>\n",
       "      <th>...</th>\n",
       "      <th>...</th>\n",
       "      <td>...</td>\n",
       "    </tr>\n",
       "    <tr>\n",
       "      <th>2019-09-02 21:44:00</th>\n",
       "      <th>checkout</th>\n",
       "      <td>1</td>\n",
       "    </tr>\n",
       "    <tr>\n",
       "      <th>2019-09-02 21:46:00</th>\n",
       "      <th>checkout</th>\n",
       "      <td>1</td>\n",
       "    </tr>\n",
       "    <tr>\n",
       "      <th>2019-09-02 21:47:00</th>\n",
       "      <th>checkout</th>\n",
       "      <td>2</td>\n",
       "    </tr>\n",
       "    <tr>\n",
       "      <th>2019-09-02 21:48:00</th>\n",
       "      <th>checkout</th>\n",
       "      <td>2</td>\n",
       "    </tr>\n",
       "    <tr>\n",
       "      <th>2019-09-02 21:49:00</th>\n",
       "      <th>checkout</th>\n",
       "      <td>2</td>\n",
       "    </tr>\n",
       "  </tbody>\n",
       "</table>\n",
       "<p>700 rows × 1 columns</p>\n",
       "</div>"
      ],
      "text/plain": [
       "                              0\n",
       "timestamp           location   \n",
       "2019-09-02 07:05:00 checkout  2\n",
       "2019-09-02 07:06:00 checkout  2\n",
       "2019-09-02 07:07:00 checkout  1\n",
       "2019-09-02 07:08:00 checkout  3\n",
       "2019-09-02 07:09:00 checkout  1\n",
       "...                          ..\n",
       "2019-09-02 21:44:00 checkout  1\n",
       "2019-09-02 21:46:00 checkout  1\n",
       "2019-09-02 21:47:00 checkout  2\n",
       "2019-09-02 21:48:00 checkout  2\n",
       "2019-09-02 21:49:00 checkout  2\n",
       "\n",
       "[700 rows x 1 columns]"
      ]
     },
     "execution_count": 13,
     "metadata": {},
     "output_type": "execute_result"
    }
   ],
   "source": [
    "checkout_time(day)"
   ]
  },
  {
   "cell_type": "code",
   "execution_count": 14,
   "metadata": {},
   "outputs": [
    {
     "data": {
      "text/html": [
       "<div>\n",
       "<style scoped>\n",
       "    .dataframe tbody tr th:only-of-type {\n",
       "        vertical-align: middle;\n",
       "    }\n",
       "\n",
       "    .dataframe tbody tr th {\n",
       "        vertical-align: top;\n",
       "    }\n",
       "\n",
       "    .dataframe thead th {\n",
       "        text-align: right;\n",
       "    }\n",
       "</style>\n",
       "<table border=\"1\" class=\"dataframe\">\n",
       "  <thead>\n",
       "    <tr style=\"text-align: right;\">\n",
       "      <th></th>\n",
       "      <th>min the customer stays in the shop</th>\n",
       "    </tr>\n",
       "    <tr>\n",
       "      <th>customer_no</th>\n",
       "      <th></th>\n",
       "    </tr>\n",
       "  </thead>\n",
       "  <tbody>\n",
       "    <tr>\n",
       "      <th>1</th>\n",
       "      <td>3</td>\n",
       "    </tr>\n",
       "    <tr>\n",
       "      <th>2</th>\n",
       "      <td>4</td>\n",
       "    </tr>\n",
       "    <tr>\n",
       "      <th>3</th>\n",
       "      <td>3</td>\n",
       "    </tr>\n",
       "    <tr>\n",
       "      <th>4</th>\n",
       "      <td>5</td>\n",
       "    </tr>\n",
       "    <tr>\n",
       "      <th>5</th>\n",
       "      <td>2</td>\n",
       "    </tr>\n",
       "    <tr>\n",
       "      <th>...</th>\n",
       "      <td>...</td>\n",
       "    </tr>\n",
       "    <tr>\n",
       "      <th>1443</th>\n",
       "      <td>2</td>\n",
       "    </tr>\n",
       "    <tr>\n",
       "      <th>1444</th>\n",
       "      <td>2</td>\n",
       "    </tr>\n",
       "    <tr>\n",
       "      <th>1445</th>\n",
       "      <td>1</td>\n",
       "    </tr>\n",
       "    <tr>\n",
       "      <th>1446</th>\n",
       "      <td>1</td>\n",
       "    </tr>\n",
       "    <tr>\n",
       "      <th>1447</th>\n",
       "      <td>1</td>\n",
       "    </tr>\n",
       "  </tbody>\n",
       "</table>\n",
       "<p>1447 rows × 1 columns</p>\n",
       "</div>"
      ],
      "text/plain": [
       "             min the customer stays in the shop\n",
       "customer_no                                    \n",
       "1                                             3\n",
       "2                                             4\n",
       "3                                             3\n",
       "4                                             5\n",
       "5                                             2\n",
       "...                                         ...\n",
       "1443                                          2\n",
       "1444                                          2\n",
       "1445                                          1\n",
       "1446                                          1\n",
       "1447                                          1\n",
       "\n",
       "[1447 rows x 1 columns]"
      ]
     },
     "execution_count": 14,
     "metadata": {},
     "output_type": "execute_result"
    }
   ],
   "source": [
    "customer_stay(day)"
   ]
  },
  {
   "cell_type": "code",
   "execution_count": 15,
   "metadata": {},
   "outputs": [
    {
     "data": {
      "text/html": [
       "<div>\n",
       "<style scoped>\n",
       "    .dataframe tbody tr th:only-of-type {\n",
       "        vertical-align: middle;\n",
       "    }\n",
       "\n",
       "    .dataframe tbody tr th {\n",
       "        vertical-align: top;\n",
       "    }\n",
       "\n",
       "    .dataframe thead th {\n",
       "        text-align: right;\n",
       "    }\n",
       "</style>\n",
       "<table border=\"1\" class=\"dataframe\">\n",
       "  <thead>\n",
       "    <tr style=\"text-align: right;\">\n",
       "      <th></th>\n",
       "      <th>0</th>\n",
       "    </tr>\n",
       "    <tr>\n",
       "      <th>timestamp</th>\n",
       "      <th></th>\n",
       "    </tr>\n",
       "  </thead>\n",
       "  <tbody>\n",
       "    <tr>\n",
       "      <th>2019-09-02 07:03:00</th>\n",
       "      <td>2</td>\n",
       "    </tr>\n",
       "    <tr>\n",
       "      <th>2019-09-02 07:04:00</th>\n",
       "      <td>8</td>\n",
       "    </tr>\n",
       "    <tr>\n",
       "      <th>2019-09-02 07:05:00</th>\n",
       "      <td>8</td>\n",
       "    </tr>\n",
       "    <tr>\n",
       "      <th>2019-09-02 07:06:00</th>\n",
       "      <td>12</td>\n",
       "    </tr>\n",
       "    <tr>\n",
       "      <th>2019-09-02 07:07:00</th>\n",
       "      <td>12</td>\n",
       "    </tr>\n",
       "    <tr>\n",
       "      <th>...</th>\n",
       "      <td>...</td>\n",
       "    </tr>\n",
       "    <tr>\n",
       "      <th>2019-09-02 21:46:00</th>\n",
       "      <td>10</td>\n",
       "    </tr>\n",
       "    <tr>\n",
       "      <th>2019-09-02 21:47:00</th>\n",
       "      <td>11</td>\n",
       "    </tr>\n",
       "    <tr>\n",
       "      <th>2019-09-02 21:48:00</th>\n",
       "      <td>9</td>\n",
       "    </tr>\n",
       "    <tr>\n",
       "      <th>2019-09-02 21:49:00</th>\n",
       "      <td>7</td>\n",
       "    </tr>\n",
       "    <tr>\n",
       "      <th>2019-09-02 21:50:00</th>\n",
       "      <td>2</td>\n",
       "    </tr>\n",
       "  </tbody>\n",
       "</table>\n",
       "<p>888 rows × 1 columns</p>\n",
       "</div>"
      ],
      "text/plain": [
       "                      0\n",
       "timestamp              \n",
       "2019-09-02 07:03:00   2\n",
       "2019-09-02 07:04:00   8\n",
       "2019-09-02 07:05:00   8\n",
       "2019-09-02 07:06:00  12\n",
       "2019-09-02 07:07:00  12\n",
       "...                  ..\n",
       "2019-09-02 21:46:00  10\n",
       "2019-09-02 21:47:00  11\n",
       "2019-09-02 21:48:00   9\n",
       "2019-09-02 21:49:00   7\n",
       "2019-09-02 21:50:00   2\n",
       "\n",
       "[888 rows x 1 columns]"
      ]
     },
     "execution_count": 15,
     "metadata": {},
     "output_type": "execute_result"
    }
   ],
   "source": [
    "customer_time(day)"
   ]
  },
  {
   "cell_type": "code",
   "execution_count": 16,
   "metadata": {},
   "outputs": [
    {
     "data": {
      "text/plain": [
       "<AxesSubplot:xlabel='location', ylabel='count'>"
      ]
     },
     "execution_count": 16,
     "metadata": {},
     "output_type": "execute_result"
    },
    {
     "data": {
      "image/png": "[encoded data removed]",
      "text/plain": [
       "<Figure size 432x288 with 1 Axes>"
      ]
     },
     "metadata": {
      "needs_background": "light"
     },
     "output_type": "display_data"
    }
   ],
   "source": [
    "first_stop(day)"
   ]
  },
  {
   "cell_type": "code",
   "execution_count": 17,
   "metadata": {},
   "outputs": [
    {
     "data": {
      "text/plain": [
       "(             0\n",
       " location      \n",
       " checkout  1437\n",
       " dairy      895\n",
       " drinks     797\n",
       " fruit     1005\n",
       " spices     750,\n",
       "                               0\n",
       " timestamp           location   \n",
       " 2019-09-02 07:03:00 dairy     2\n",
       " 2019-09-02 07:04:00 dairy     2\n",
       "                     fruit     1\n",
       "                     spices    3\n",
       " 2019-09-02 07:05:00 checkout  2\n",
       " ...                          ..\n",
       " 2019-09-02 21:49:00 dairy     1\n",
       "                     fruit     2\n",
       "                     spices    2\n",
       " 2019-09-02 21:50:00 dairy     1\n",
       "                     fruit     1\n",
       " \n",
       " [2797 rows x 1 columns],\n",
       "                               0\n",
       " timestamp           location   \n",
       " 2019-09-02 07:05:00 checkout  2\n",
       " 2019-09-02 07:06:00 checkout  2\n",
       " 2019-09-02 07:07:00 checkout  1\n",
       " 2019-09-02 07:08:00 checkout  3\n",
       " 2019-09-02 07:09:00 checkout  1\n",
       " ...                          ..\n",
       " 2019-09-02 21:44:00 checkout  1\n",
       " 2019-09-02 21:46:00 checkout  1\n",
       " 2019-09-02 21:47:00 checkout  2\n",
       " 2019-09-02 21:48:00 checkout  2\n",
       " 2019-09-02 21:49:00 checkout  2\n",
       " \n",
       " [700 rows x 1 columns],\n",
       "              min the customer stays in the shop\n",
       " customer_no                                    \n",
       " 1                                             3\n",
       " 2                                             4\n",
       " 3                                             3\n",
       " 4                                             5\n",
       " 5                                             2\n",
       " ...                                         ...\n",
       " 1443                                          2\n",
       " 1444                                          2\n",
       " 1445                                          1\n",
       " 1446                                          1\n",
       " 1447                                          1\n",
       " \n",
       " [1447 rows x 1 columns],\n",
       "                       0\n",
       " timestamp              \n",
       " 2019-09-02 07:03:00   2\n",
       " 2019-09-02 07:04:00   8\n",
       " 2019-09-02 07:05:00   8\n",
       " 2019-09-02 07:06:00  12\n",
       " 2019-09-02 07:07:00  12\n",
       " ...                  ..\n",
       " 2019-09-02 21:46:00  10\n",
       " 2019-09-02 21:47:00  11\n",
       " 2019-09-02 21:48:00   9\n",
       " 2019-09-02 21:49:00   7\n",
       " 2019-09-02 21:50:00   2\n",
       " \n",
       " [888 rows x 1 columns],\n",
       " <AxesSubplot:xlabel='location', ylabel='count'>)"
      ]
     },
     "execution_count": 17,
     "metadata": {},
     "output_type": "execute_result"
    },
    {
     "data": {
      "image/png": "[encoded data removed]",
      "text/plain": [
       "<Figure size 432x288 with 1 Axes>"
      ]
     },
     "metadata": {
      "needs_background": "light"
     },
     "output_type": "display_data"
    }
   ],
   "source": [
    "# there must be a better way\n",
    "\n",
    "explore_dataframe(monday)"
   ]
  },
  {
   "cell_type": "code",
   "execution_count": null,
   "metadata": {},
   "outputs": [],
   "source": []
  }
 ],
 "metadata": {
  "kernelspec": {
   "display_name": "Python [conda env:markov_chain]",
   "language": "python",
   "name": "conda-env-markov_chain-py"
  },
  "language_info": {
   "codemirror_mode": {
    "name": "ipython",
    "version": 3
   },
   "file_extension": ".py",
   "mimetype": "text/x-python",
   "name": "python",
   "nbconvert_exporter": "python",
   "pygments_lexer": "ipython3",
   "version": "3.8.8"
  }
 },
 "nbformat": 4,
 "nbformat_minor": 5
}
